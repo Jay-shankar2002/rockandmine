{
  "nbformat": 4,
  "nbformat_minor": 0,
  "metadata": {
    "colab": {
      "provenance": []
    },
    "kernelspec": {
      "name": "python3",
      "display_name": "Python 3"
    },
    "language_info": {
      "name": "python"
    }
  },
  "cells": [
    {
      "cell_type": "markdown",
      "source": [
        "Importing the dependencies"
      ],
      "metadata": {
        "id": "rrMNvyXR-VVi"
      }
    },
    {
      "cell_type": "code",
      "source": [
        "import numpy as np\n",
        "import pandas as pd\n",
        "from sklearn.model_selection import train_test_split\n",
        "from sklearn.linear_model import LogisticRegression\n",
        "from sklearn.metrics import accuracy_score\n",
        "sonar_data = pd.read_csv(\"/content/sonar data.csv\",header=None)\n",
        "sonar_data.head()\n",
        "sonar_data.shape\n",
        "sonar_data.groupby(60).mean()\n",
        "#seperating the data and label\n",
        "X=sonar_data.drop(columns=60,axis=1)\n",
        "Y=sonar_data[60]\n",
        "#train and test data splitting\n",
        "X_train,X_test,Y_train,Y_test=train_test_split(X,Y,test_size=0.1,stratify=Y,random_state=1)\n",
        "print(X.shape,X_train.shape,X_test.shape)\n",
        "#model training\n",
        "model=LogisticRegression()\n",
        "#training logistic regression on our data\n",
        "model.fit(X_train,Y_train)\n",
        "#train data  accuracy check chestham\n",
        "X_train_prediction=model.predict(X_train)\n",
        "training_data_accuracy = accuracy_score(X_train_prediction,Y_train)\n",
        "print(training_data_accuracy)\n",
        "#test data ki accuracy entha vachindo check chestham\n",
        "X_test_prediction=model.predict(X_test)\n",
        "test_data_accuracy = accuracy_score(X_test_prediction,Y_test)\n",
        "print(test_data_accuracy)\n",
        "#sonar nundi vachina data ni predict chestham\n",
        "input_data=(0.0114,0.0222,0.0269,0.0384,0.1217,0.2062,0.1489,0.0929,0.1350,0.1799,0.2486,0.2973,0.3672,0.4394,0.5258,0.6755,0.7402,0.8284,0.9033,0.9584,1.0000,0.9982,0.8899,0.7493,0.6367,0.6744,0.7207,0.6821,0.5512,0.4789,0.3924,0.2533,0.1089,0.1390,0.2551,0.3301,0.2818,0.2142,0.2266,0.2142,0.2354,0.2871,0.2596,0.1925,0.1256,0.1003,0.0951,0.1210,0.0728,0.0174,0.0213,0.0269,0.0152,0.0257,0.0097,0.0041,0.0050,0.0145,0.0103,0.0025)#input data ni numpy array ga marusthunnam\n",
        "input_data_as_numpy_array=np.asarray(input_data)\n",
        "#numpy array ni reshape chestham enduku ante kastam ayyidi\n",
        "input_data_reshape=input_data_as_numpy_array.reshape(1,-1)\n",
        "prediction=model.predict(input_data_reshape)\n",
        "if(prediction[0]=='R'):\n",
        "  print(\"That is Rock no problem to go\")\n",
        "else:\n",
        "  print(\"That is Mine there is a problem\")\n"
      ],
      "metadata": {
        "colab": {
          "base_uri": "https://localhost:8080/"
        },
        "id": "J1xOjQfI-Tir",
        "outputId": "3041e62c-ec1e-4e78-cabe-e8f7712f5e0e"
      },
      "execution_count": 4,
      "outputs": [
        {
          "output_type": "stream",
          "name": "stdout",
          "text": [
            "(208, 60) (187, 60) (21, 60)\n",
            "0.8342245989304813\n",
            "0.7619047619047619\n",
            "That is Mine there is a problem\n"
          ]
        }
      ]
    }
  ]
}